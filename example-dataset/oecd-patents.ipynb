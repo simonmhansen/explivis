{
 "cells": [
  {
   "attachments": {},
   "cell_type": "markdown",
   "metadata": {},
   "source": [
    "# OECD Patent Data\n",
    "This notebook downloads the OECD *Patents by WIPO technology domains* from the OECD Data Explorer. All credit goes to OECD for the dataset. The dataset can be found at:\n",
    "https://data-explorer.oecd.org/vis?lc=en&df[ds]=dsDisseminateFinalDMZ&df[id]=DSD_PATENTS%40DF_PATENTS_WIPO&df[ag]=OECD.STI.PIE&df[vs]=1.0&dq=6F0.A.AP..APPLICATION.USA%2BGBR%2BTUR%2BCHE%2BSWE%2BESP%2BSVN%2BSVK%2BPRT%2BPOL%2BNOR%2BNZL%2BNLD%2BMEX%2BLUX%2BLTU%2BLVA%2BKOR%2BJPN%2BITA%2BISR%2BIRL%2BISL%2BHUN%2BGRC%2BDEU%2BFIN%2BFRA%2BEST%2BDNK%2BCZE%2BCRI%2BCOL%2BCHL%2BCAN%2BBEL%2BAUT%2BAUS..INVENTOR...&pd=2010%2C2020&to[TIME_PERIOD]=false&vw=ov\n",
    "\n",
    "The OECD Data Explorer API has limits on how the amount of data, which can be downloaded. Therefore run this notebook only once, else you might risk getting blocked."
   ]
  },
  {
   "cell_type": "code",
   "execution_count": null,
   "metadata": {},
   "outputs": [],
   "source": [
    "import requests\n",
    "import pandas as pd\n",
    "from io import StringIO"
   ]
  },
  {
   "cell_type": "code",
   "execution_count": null,
   "metadata": {},
   "outputs": [],
   "source": [
    "# OECD Request URL/Format\n",
    "url = \"https://sdmx.oecd.org/public/rest/data/OECD.STI.PIE,DSD_PATENTS@DF_PATENTS_WIPO,1.0/6F0.A.AP..APPLICATION.ZWE+VEN+UZB+URY+ARE+UKR+TUN+TTO+THA+TWN+ZAF+LKA+SGP+SYC+SAU+RUS+ROU+PRI+PHL+PER+PAN+PAK+MKD+NGA+MAR+MNG+MCO+MDA+MLT+MYS+LIE+LBN+KWT+KEN+KAZ+JOR+JAM+IRN+IDN+IND+HKG+GTM+GEO+SLV+EGY+ECU+DJI+PRK+CYP+CUB+HRV+CHN+CYM+BGR+BRA+BIH+BMU+BLR+ARM+ARG+AND+DZA+USA+GBR+TUR+CHE+SWE+ESP+SVN+SVK+PRT+POL+NOR+NZL+NLD+MEX+LUX+LTU+LVA+KOR+JPN+ITA+ISR+IRL+ISL+HUN+GRC+DEU+FIN+FRA+EST+DNK+CZE+CRI+COL+CHL+CAN+BEL+AUT+AUS..INVENTOR...?startPeriod=2000&endPeriod=2020&dimensionAtObservation=AllDimensions&format=csvfilewithlabels\""
   ]
  },
  {
   "cell_type": "code",
   "execution_count": null,
   "metadata": {},
   "outputs": [],
   "source": [
    "# Uncomment to make the API request\n",
    "# response = requests.get(url)"
   ]
  },
  {
   "cell_type": "code",
   "execution_count": null,
   "metadata": {},
   "outputs": [],
   "source": [
    "response"
   ]
  },
  {
   "cell_type": "code",
   "execution_count": null,
   "metadata": {},
   "outputs": [],
   "source": [
    "df = pd.read_csv(StringIO(response.text))\n",
    "df"
   ]
  },
  {
   "cell_type": "markdown",
   "metadata": {},
   "source": [
    "Limit the dataset to the columns important to us"
   ]
  },
  {
   "cell_type": "code",
   "execution_count": null,
   "metadata": {},
   "outputs": [],
   "source": [
    "df = df[['Reference area', 'World Intellectual Property Organization domains', 'TIME_PERIOD', 'OBS_VALUE']]\n",
    "df"
   ]
  },
  {
   "cell_type": "markdown",
   "metadata": {},
   "source": [
    "Finally we write the dataset to `JSON`, so it can be uploaded to ExpliVis."
   ]
  },
  {
   "cell_type": "code",
   "execution_count": null,
   "metadata": {},
   "outputs": [],
   "source": [
    "df.to_json(\"oecd-patents.json\", orient='records')"
   ]
  }
 ],
 "metadata": {
  "kernelspec": {
   "display_name": "ml_env312a",
   "language": "python",
   "name": "python3"
  },
  "language_info": {
   "codemirror_mode": {
    "name": "ipython",
    "version": 3
   },
   "file_extension": ".py",
   "mimetype": "text/x-python",
   "name": "python",
   "nbconvert_exporter": "python",
   "pygments_lexer": "ipython3",
   "version": "3.12.9"
  },
  "orig_nbformat": 4
 },
 "nbformat": 4,
 "nbformat_minor": 2
}
